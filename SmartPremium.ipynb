{
  "nbformat": 4,
  "nbformat_minor": 0,
  "metadata": {
    "colab": {
      "provenance": []
    },
    "kernelspec": {
      "name": "python3",
      "display_name": "Python 3"
    },
    "language_info": {
      "name": "python"
    }
  },
  "cells": [
    {
      "cell_type": "markdown",
      "source": [
        "1. Importing Required Libraries"
      ],
      "metadata": {
        "id": "UQ24a7MLbxgq"
      }
    },
    {
      "cell_type": "code",
      "execution_count": 1,
      "metadata": {
        "id": "vTx6ckNWbRxs"
      },
      "outputs": [],
      "source": [
        "# Data manipulation\n",
        "import pandas as pd\n",
        "import numpy as np\n",
        "\n",
        "# Visualization\n",
        "import matplotlib.pyplot as plt\n",
        "import seaborn as sns\n",
        "\n",
        "# ML preprocessing\n",
        "from sklearn.model_selection import train_test_split\n",
        "from sklearn.preprocessing import StandardScaler, LabelEncoder\n",
        "\n",
        "# ML models\n",
        "from sklearn.linear_model import LinearRegression\n",
        "from sklearn.ensemble import RandomForestRegressor\n",
        "from xgboost import XGBRegressor\n",
        "\n",
        "# Evaluation\n",
        "from sklearn.metrics import mean_squared_error, mean_absolute_error, r2_score\n",
        "import joblib\n"
      ]
    },
    {
      "cell_type": "markdown",
      "source": [
        " 2. Loading the Dataset"
      ],
      "metadata": {
        "id": "K6eO_cQJb7u9"
      }
    },
    {
      "cell_type": "code",
      "source": [
        "train = pd.read_csv('train.csv')\n",
        "test = pd.read_csv('test.csv')\n",
        "\n",
        "train.shape, test.shape"
      ],
      "metadata": {
        "colab": {
          "base_uri": "https://localhost:8080/"
        },
        "id": "fB8fx5RVbkaI",
        "outputId": "81a31f40-093f-4b5f-80be-e84f9ce6fd43"
      },
      "execution_count": 2,
      "outputs": [
        {
          "output_type": "execute_result",
          "data": {
            "text/plain": [
              "((1200000, 21), (800000, 20))"
            ]
          },
          "metadata": {},
          "execution_count": 2
        }
      ]
    },
    {
      "cell_type": "markdown",
      "source": [
        "3. Exploratory Data Analysis (EDA)"
      ],
      "metadata": {
        "id": "cumNHVeVb_Us"
      }
    },
    {
      "cell_type": "code",
      "source": [
        "train.head()\n",
        "train.info()\n",
        "train.describe()\n",
        "\n",
        "# Check missing values\n",
        "train.isnull().sum().sort_values(ascending=False)"
      ],
      "metadata": {
        "colab": {
          "base_uri": "https://localhost:8080/",
          "height": 1000
        },
        "id": "d5u9rJbjblpE",
        "outputId": "62115965-6606-44d9-df18-82b5989feb50"
      },
      "execution_count": 3,
      "outputs": [
        {
          "output_type": "stream",
          "name": "stdout",
          "text": [
            "<class 'pandas.core.frame.DataFrame'>\n",
            "RangeIndex: 1200000 entries, 0 to 1199999\n",
            "Data columns (total 21 columns):\n",
            " #   Column                Non-Null Count    Dtype  \n",
            "---  ------                --------------    -----  \n",
            " 0   id                    1200000 non-null  int64  \n",
            " 1   Age                   1181295 non-null  float64\n",
            " 2   Gender                1200000 non-null  object \n",
            " 3   Annual Income         1155051 non-null  float64\n",
            " 4   Marital Status        1181471 non-null  object \n",
            " 5   Number of Dependents  1090328 non-null  float64\n",
            " 6   Education Level       1200000 non-null  object \n",
            " 7   Occupation            841925 non-null   object \n",
            " 8   Health Score          1125924 non-null  float64\n",
            " 9   Location              1200000 non-null  object \n",
            " 10  Policy Type           1200000 non-null  object \n",
            " 11  Previous Claims       835971 non-null   float64\n",
            " 12  Vehicle Age           1199994 non-null  float64\n",
            " 13  Credit Score          1062118 non-null  float64\n",
            " 14  Insurance Duration    1199999 non-null  float64\n",
            " 15  Policy Start Date     1200000 non-null  object \n",
            " 16  Customer Feedback     1122176 non-null  object \n",
            " 17  Smoking Status        1200000 non-null  object \n",
            " 18  Exercise Frequency    1200000 non-null  object \n",
            " 19  Property Type         1200000 non-null  object \n",
            " 20  Premium Amount        1200000 non-null  float64\n",
            "dtypes: float64(9), int64(1), object(11)\n",
            "memory usage: 192.3+ MB\n"
          ]
        },
        {
          "output_type": "execute_result",
          "data": {
            "text/plain": [
              "Previous Claims         364029\n",
              "Occupation              358075\n",
              "Credit Score            137882\n",
              "Number of Dependents    109672\n",
              "Customer Feedback        77824\n",
              "Health Score             74076\n",
              "Annual Income            44949\n",
              "Age                      18705\n",
              "Marital Status           18529\n",
              "Vehicle Age                  6\n",
              "Insurance Duration           1\n",
              "Gender                       0\n",
              "id                           0\n",
              "Location                     0\n",
              "Policy Type                  0\n",
              "Education Level              0\n",
              "Policy Start Date            0\n",
              "Smoking Status               0\n",
              "Exercise Frequency           0\n",
              "Property Type                0\n",
              "Premium Amount               0\n",
              "dtype: int64"
            ],
            "text/html": [
              "<div>\n",
              "<style scoped>\n",
              "    .dataframe tbody tr th:only-of-type {\n",
              "        vertical-align: middle;\n",
              "    }\n",
              "\n",
              "    .dataframe tbody tr th {\n",
              "        vertical-align: top;\n",
              "    }\n",
              "\n",
              "    .dataframe thead th {\n",
              "        text-align: right;\n",
              "    }\n",
              "</style>\n",
              "<table border=\"1\" class=\"dataframe\">\n",
              "  <thead>\n",
              "    <tr style=\"text-align: right;\">\n",
              "      <th></th>\n",
              "      <th>0</th>\n",
              "    </tr>\n",
              "  </thead>\n",
              "  <tbody>\n",
              "    <tr>\n",
              "      <th>Previous Claims</th>\n",
              "      <td>364029</td>\n",
              "    </tr>\n",
              "    <tr>\n",
              "      <th>Occupation</th>\n",
              "      <td>358075</td>\n",
              "    </tr>\n",
              "    <tr>\n",
              "      <th>Credit Score</th>\n",
              "      <td>137882</td>\n",
              "    </tr>\n",
              "    <tr>\n",
              "      <th>Number of Dependents</th>\n",
              "      <td>109672</td>\n",
              "    </tr>\n",
              "    <tr>\n",
              "      <th>Customer Feedback</th>\n",
              "      <td>77824</td>\n",
              "    </tr>\n",
              "    <tr>\n",
              "      <th>Health Score</th>\n",
              "      <td>74076</td>\n",
              "    </tr>\n",
              "    <tr>\n",
              "      <th>Annual Income</th>\n",
              "      <td>44949</td>\n",
              "    </tr>\n",
              "    <tr>\n",
              "      <th>Age</th>\n",
              "      <td>18705</td>\n",
              "    </tr>\n",
              "    <tr>\n",
              "      <th>Marital Status</th>\n",
              "      <td>18529</td>\n",
              "    </tr>\n",
              "    <tr>\n",
              "      <th>Vehicle Age</th>\n",
              "      <td>6</td>\n",
              "    </tr>\n",
              "    <tr>\n",
              "      <th>Insurance Duration</th>\n",
              "      <td>1</td>\n",
              "    </tr>\n",
              "    <tr>\n",
              "      <th>Gender</th>\n",
              "      <td>0</td>\n",
              "    </tr>\n",
              "    <tr>\n",
              "      <th>id</th>\n",
              "      <td>0</td>\n",
              "    </tr>\n",
              "    <tr>\n",
              "      <th>Location</th>\n",
              "      <td>0</td>\n",
              "    </tr>\n",
              "    <tr>\n",
              "      <th>Policy Type</th>\n",
              "      <td>0</td>\n",
              "    </tr>\n",
              "    <tr>\n",
              "      <th>Education Level</th>\n",
              "      <td>0</td>\n",
              "    </tr>\n",
              "    <tr>\n",
              "      <th>Policy Start Date</th>\n",
              "      <td>0</td>\n",
              "    </tr>\n",
              "    <tr>\n",
              "      <th>Smoking Status</th>\n",
              "      <td>0</td>\n",
              "    </tr>\n",
              "    <tr>\n",
              "      <th>Exercise Frequency</th>\n",
              "      <td>0</td>\n",
              "    </tr>\n",
              "    <tr>\n",
              "      <th>Property Type</th>\n",
              "      <td>0</td>\n",
              "    </tr>\n",
              "    <tr>\n",
              "      <th>Premium Amount</th>\n",
              "      <td>0</td>\n",
              "    </tr>\n",
              "  </tbody>\n",
              "</table>\n",
              "</div><br><label><b>dtype:</b> int64</label>"
            ]
          },
          "metadata": {},
          "execution_count": 3
        }
      ]
    },
    {
      "cell_type": "markdown",
      "source": [],
      "metadata": {
        "id": "karMnLQ3cJRV"
      }
    },
    {
      "cell_type": "markdown",
      "source": [
        "4. Data Cleaning & Preprocessing"
      ],
      "metadata": {
        "id": "hhYvlIHEcIMm"
      }
    },
    {
      "cell_type": "code",
      "source": [
        "#Drop Unnecessary Columns"
      ],
      "metadata": {
        "id": "4EIgpaABblxN"
      },
      "execution_count": null,
      "outputs": []
    },
    {
      "cell_type": "code",
      "source": [
        "drop_cols = ['Customer Feedback', 'Policy Start Date']\n",
        "train.drop(columns=drop_cols, inplace=True, errors='ignore')\n",
        "test.drop(columns=drop_cols, inplace=True, errors='ignore')"
      ],
      "metadata": {
        "id": "X60dhSXLbl1Y"
      },
      "execution_count": 4,
      "outputs": []
    },
    {
      "cell_type": "code",
      "source": [
        "#Train-Test Split"
      ],
      "metadata": {
        "id": "roeFyB5zbl4i"
      },
      "execution_count": null,
      "outputs": []
    },
    {
      "cell_type": "code",
      "source": [
        "X = train.drop('Premium Amount', axis=1)\n",
        "y = train['Premium Amount']\n",
        "\n",
        "X_train, X_valid, y_train, y_valid = train_test_split(X, y, test_size=0.2, random_state=42)"
      ],
      "metadata": {
        "id": "_lFSsiSLbl7M"
      },
      "execution_count": 5,
      "outputs": []
    },
    {
      "cell_type": "code",
      "source": [
        "#Handling Missing Values"
      ],
      "metadata": {
        "id": "ZfT6nd_dbl96"
      },
      "execution_count": null,
      "outputs": []
    },
    {
      "cell_type": "code",
      "source": [
        "# Numeric columns\n",
        "for col in X_train.select_dtypes(include='number').columns:\n",
        "    median = X_train[col].median()\n",
        "    X_train[col].fillna(median, inplace=True)\n",
        "    X_valid[col].fillna(median, inplace=True)\n",
        "    test[col].fillna(median, inplace=True)\n",
        "\n",
        "# Categorical columns\n",
        "for col in X_train.select_dtypes(include='object').columns:\n",
        "    mode = X_train[col].mode()[0]\n",
        "    X_train[col].fillna(mode, inplace=True)\n",
        "    X_valid[col].fillna(mode, inplace=True)\n",
        "    test[col].fillna(mode, inplace=True)\n"
      ],
      "metadata": {
        "colab": {
          "base_uri": "https://localhost:8080/"
        },
        "id": "j9Hs52FhbmA9",
        "outputId": "1c1af305-ee30-4489-a6a3-8f847b80194d"
      },
      "execution_count": 6,
      "outputs": [
        {
          "output_type": "stream",
          "name": "stderr",
          "text": [
            "/tmp/ipython-input-6-1151710007.py:4: FutureWarning: A value is trying to be set on a copy of a DataFrame or Series through chained assignment using an inplace method.\n",
            "The behavior will change in pandas 3.0. This inplace method will never work because the intermediate object on which we are setting values always behaves as a copy.\n",
            "\n",
            "For example, when doing 'df[col].method(value, inplace=True)', try using 'df.method({col: value}, inplace=True)' or df[col] = df[col].method(value) instead, to perform the operation inplace on the original object.\n",
            "\n",
            "\n",
            "  X_train[col].fillna(median, inplace=True)\n",
            "/tmp/ipython-input-6-1151710007.py:5: FutureWarning: A value is trying to be set on a copy of a DataFrame or Series through chained assignment using an inplace method.\n",
            "The behavior will change in pandas 3.0. This inplace method will never work because the intermediate object on which we are setting values always behaves as a copy.\n",
            "\n",
            "For example, when doing 'df[col].method(value, inplace=True)', try using 'df.method({col: value}, inplace=True)' or df[col] = df[col].method(value) instead, to perform the operation inplace on the original object.\n",
            "\n",
            "\n",
            "  X_valid[col].fillna(median, inplace=True)\n",
            "/tmp/ipython-input-6-1151710007.py:6: FutureWarning: A value is trying to be set on a copy of a DataFrame or Series through chained assignment using an inplace method.\n",
            "The behavior will change in pandas 3.0. This inplace method will never work because the intermediate object on which we are setting values always behaves as a copy.\n",
            "\n",
            "For example, when doing 'df[col].method(value, inplace=True)', try using 'df.method({col: value}, inplace=True)' or df[col] = df[col].method(value) instead, to perform the operation inplace on the original object.\n",
            "\n",
            "\n",
            "  test[col].fillna(median, inplace=True)\n",
            "/tmp/ipython-input-6-1151710007.py:11: FutureWarning: A value is trying to be set on a copy of a DataFrame or Series through chained assignment using an inplace method.\n",
            "The behavior will change in pandas 3.0. This inplace method will never work because the intermediate object on which we are setting values always behaves as a copy.\n",
            "\n",
            "For example, when doing 'df[col].method(value, inplace=True)', try using 'df.method({col: value}, inplace=True)' or df[col] = df[col].method(value) instead, to perform the operation inplace on the original object.\n",
            "\n",
            "\n",
            "  X_train[col].fillna(mode, inplace=True)\n",
            "/tmp/ipython-input-6-1151710007.py:12: FutureWarning: A value is trying to be set on a copy of a DataFrame or Series through chained assignment using an inplace method.\n",
            "The behavior will change in pandas 3.0. This inplace method will never work because the intermediate object on which we are setting values always behaves as a copy.\n",
            "\n",
            "For example, when doing 'df[col].method(value, inplace=True)', try using 'df.method({col: value}, inplace=True)' or df[col] = df[col].method(value) instead, to perform the operation inplace on the original object.\n",
            "\n",
            "\n",
            "  X_valid[col].fillna(mode, inplace=True)\n",
            "/tmp/ipython-input-6-1151710007.py:13: FutureWarning: A value is trying to be set on a copy of a DataFrame or Series through chained assignment using an inplace method.\n",
            "The behavior will change in pandas 3.0. This inplace method will never work because the intermediate object on which we are setting values always behaves as a copy.\n",
            "\n",
            "For example, when doing 'df[col].method(value, inplace=True)', try using 'df.method({col: value}, inplace=True)' or df[col] = df[col].method(value) instead, to perform the operation inplace on the original object.\n",
            "\n",
            "\n",
            "  test[col].fillna(mode, inplace=True)\n"
          ]
        }
      ]
    },
    {
      "cell_type": "code",
      "source": [
        "# Label Encoding"
      ],
      "metadata": {
        "id": "ssaqygJObmDc"
      },
      "execution_count": null,
      "outputs": []
    },
    {
      "cell_type": "code",
      "source": [
        "le = LabelEncoder()\n",
        "for col in X_train.select_dtypes(include='object').columns:\n",
        "    X_train[col] = le.fit_transform(X_train[col])\n",
        "    X_valid[col] = le.transform(X_valid[col])\n",
        "    test[col] = le.transform(test[col])\n"
      ],
      "metadata": {
        "id": "1ovnA-VxbmGZ"
      },
      "execution_count": 7,
      "outputs": []
    },
    {
      "cell_type": "code",
      "source": [
        "#Feature Scaling"
      ],
      "metadata": {
        "id": "dURj76rwbmLJ"
      },
      "execution_count": null,
      "outputs": []
    },
    {
      "cell_type": "code",
      "source": [
        "num_cols = X_train.select_dtypes(include=['int64', 'float64']).columns\n",
        "\n",
        "scaler = StandardScaler()\n",
        "X_train[num_cols] = scaler.fit_transform(X_train[num_cols])\n",
        "X_valid[num_cols] = scaler.transform(X_valid[num_cols])\n",
        "test[num_cols] = scaler.transform(test[num_cols])\n"
      ],
      "metadata": {
        "id": "pBpvuScYbmN1"
      },
      "execution_count": 8,
      "outputs": []
    },
    {
      "cell_type": "markdown",
      "source": [
        " 5. Model Training & Evaluation"
      ],
      "metadata": {
        "id": "1uktbJeEc8nn"
      }
    },
    {
      "cell_type": "code",
      "source": [
        "#Evaluation Function"
      ],
      "metadata": {
        "id": "WtMLJPYubmT5"
      },
      "execution_count": null,
      "outputs": []
    },
    {
      "cell_type": "code",
      "source": [
        "def evaluate_model(model, X_valid, y_valid, model_name=\"Model\"):\n",
        "    y_pred = model.predict(X_valid)\n",
        "    rmse = np.sqrt(mean_squared_error(y_valid, y_pred))\n",
        "    mae = mean_absolute_error(y_valid, y_pred)\n",
        "    r2 = r2_score(y_valid, y_pred)\n",
        "\n",
        "    print(f\" {model_name} Performance:\")\n",
        "    print(f\" RMSE: {rmse:.2f}\")\n",
        "    print(f\" MAE: {mae:.2f}\")\n",
        "    print(f\" R² Score: {r2:.4f}\")\n",
        "    print(\"-\" * 40)"
      ],
      "metadata": {
        "id": "I8vn9zyybmWw"
      },
      "execution_count": 9,
      "outputs": []
    },
    {
      "cell_type": "code",
      "source": [
        "#Linear Regression\n",
        "lr = LinearRegression()\n",
        "lr.fit(X_train, y_train)\n",
        "evaluate_model(lr, X_valid, y_valid, \"Linear Regression\")"
      ],
      "metadata": {
        "colab": {
          "base_uri": "https://localhost:8080/"
        },
        "id": "J9R1GOEYbmZV",
        "outputId": "f83549c7-79bd-4982-9aa2-16e43780a719"
      },
      "execution_count": 10,
      "outputs": [
        {
          "output_type": "stream",
          "name": "stdout",
          "text": [
            "📊 Linear Regression Performance:\n",
            "🔸 RMSE: 863.34\n",
            "🔸 MAE: 667.33\n",
            "🔸 R² Score: 0.0026\n",
            "----------------------------------------\n"
          ]
        }
      ]
    },
    {
      "cell_type": "code",
      "source": [
        "#Random Forest\n",
        "rf = RandomForestRegressor(n_estimators=100, random_state=42, n_jobs=-1)\n",
        "rf.fit(X_train, y_train)\n",
        "evaluate_model(rf, X_valid, y_valid, \"Random Forest\")"
      ],
      "metadata": {
        "colab": {
          "base_uri": "https://localhost:8080/"
        },
        "id": "-x5XR87xbmcb",
        "outputId": "07f0de8d-8349-4660-c422-4116ccb014b6"
      },
      "execution_count": 11,
      "outputs": [
        {
          "output_type": "stream",
          "name": "stdout",
          "text": [
            "📊 Random Forest Performance:\n",
            "🔸 RMSE: 858.13\n",
            "🔸 MAE: 662.51\n",
            "🔸 R² Score: 0.0146\n",
            "----------------------------------------\n"
          ]
        }
      ]
    },
    {
      "cell_type": "code",
      "source": [
        "#XGBoost\n",
        "xgb = XGBRegressor(n_estimators=100, learning_rate=0.1, random_state=42, n_jobs=-1)\n",
        "xgb.fit(X_train, y_train)\n",
        "evaluate_model(xgb, X_valid, y_valid, \"XGBoost\")"
      ],
      "metadata": {
        "colab": {
          "base_uri": "https://localhost:8080/"
        },
        "id": "CIXo5cQvbmei",
        "outputId": "4fa4a2b3-7e8f-4fd2-c243-5106de0ffa51"
      },
      "execution_count": 12,
      "outputs": [
        {
          "output_type": "stream",
          "name": "stdout",
          "text": [
            "📊 XGBoost Performance:\n",
            "🔸 RMSE: 847.99\n",
            "🔸 MAE: 648.14\n",
            "🔸 R² Score: 0.0377\n",
            "----------------------------------------\n"
          ]
        }
      ]
    },
    {
      "cell_type": "markdown",
      "source": [
        "6. Final Model Saving"
      ],
      "metadata": {
        "id": "xA42TYP5l38Y"
      }
    },
    {
      "cell_type": "code",
      "source": [
        "joblib.dump(xgb, 'xgboost_model.pkl')\n",
        "print(\" Model saved as 'xgboost_model.pkl'\")"
      ],
      "metadata": {
        "colab": {
          "base_uri": "https://localhost:8080/"
        },
        "id": "GZeHTa6Hbmjv",
        "outputId": "67f404f5-5995-403e-b93d-93293e426f42"
      },
      "execution_count": 13,
      "outputs": [
        {
          "output_type": "stream",
          "name": "stdout",
          "text": [
            "✅ Model saved as 'xgboost_model.pkl'\n"
          ]
        }
      ]
    },
    {
      "cell_type": "markdown",
      "source": [
        "###  Conclusion:\n",
        "- XGBoost performed the best with the lowest RMSE and highest R².\n",
        "- This model will be used for deployment via a Streamlit app.\n",
        "- Further improvement possible with feature engineering and hyperparameter tuning."
      ],
      "metadata": {
        "id": "0mGVgEnVmDN5"
      }
    },
    {
      "cell_type": "code",
      "source": [],
      "metadata": {
        "id": "YSDxoytKbm_n"
      },
      "execution_count": null,
      "outputs": []
    },
    {
      "cell_type": "code",
      "source": [],
      "metadata": {
        "id": "Ih3K6Jx8bnCh"
      },
      "execution_count": null,
      "outputs": []
    }
  ]
}